{
 "cells": [
  {
   "cell_type": "markdown",
   "metadata": {},
   "source": [
    "# Example Problem -- Cerberus\n",
    "\n",
    "We are given three points $(x_1, y_1), (x_2, y_2), \\textrm{ and } (x_3, y_3)$ and we need to find the coordinates of the point $(x_c, y_c)$ such that the line segments joining this point to the three given points will make angles of $120^\\circ$ with each other. In the image below, we are given the points $A, B, \\textrm{ and } C$ and we need to determine the point $O$ such that the angles $\\angle AOB = \\angle BOC = \\angle COA = 120^\\circ$.\n",
    "\n",
    "![The Cerberus Problem](files/cerberus.png)"
   ]
  },
  {
   "cell_type": "markdown",
   "metadata": {},
   "source": [
    "We can use the cosine formula to put constraints on the point $O$:\n",
    "- $\\|AB\\|^2 = \\|AO\\|^2 + \\|BO\\|^2 - 2\\|AO\\|\\|BO\\|\\cos 120^\\circ$\n",
    "- $\\|AC\\|^2 = \\|AO\\|^2 + \\|CO\\|^2 - 2\\|AO\\|\\|CO\\|\\cos 120^\\circ$\n",
    "\n",
    "Note that putting a third constraint would be redundant. Depending on the problem, it may or it may not be a good idea.\n",
    "\n",
    "We can write each constraint as a function of the coordinates of the point $O$:\n",
    "\n",
    "- $f_1(x_c, y_c) = \\|AO\\|^2 + \\|BO\\|^2 - 2\\|AO\\|\\|BO\\|\\cos 120^\\circ - \\|AB\\|^2$\n",
    "- $f_2(x_c, y_c) = \\|AO\\|^2 + \\|CO\\|^2 - 2\\|AO\\|\\|CO\\|\\cos 120^\\circ - \\|AC\\|^2$\n",
    "\n",
    "Our problem is finding the simultaneous root of the functions $f_1(x_c, y_c)$ and $f_2(x_c, y_x)$. So the input is two dimensional and the output is also two dimensional. In this case the Newton-Raphson iterations are given by\n",
    "$$ \\mathtt{J} \\mathbf{\\Delta x}_i = - \\mathbf{f}(\\mathbf{x}_i) $$\n",
    "where $\\mathbf{x} = (x_i, y_i)^\\top$ is the coordinate vector of the point $O$, $\\mathbf{f}(\\mathbf{x}_i)=(f_1(x_i, y_i), f_2(x_i, y_i))^\\top$ is the value vector of the function we want to find the root of, and finally\n",
    "$$ \\mathtt{J} = \\left[\\begin{array}{cc}\\frac{\\partial f_1}{\\partial x}&\\frac{\\partial f_1}{\\partial y}\\\\\\frac{\\partial f_2}{\\partial x}&\\frac{\\partial f_2}{\\partial y}\\end{array}\\right]$$\n",
    "is the Jacobian matrix of the function partial derivatives.\n",
    "\n",
    "In this homework you will write the necessary Python functions to compute the function values and the Jacobian."
   ]
  },
  {
   "cell_type": "code",
   "execution_count": null,
   "metadata": {},
   "outputs": [],
   "source": [
    "import math\n",
    "import numpy as np\n",
    "from sympy import *"
   ]
  },
  {
   "cell_type": "markdown",
   "metadata": {},
   "source": [
    "We can define a new function that calculates $f_i(x_c, y_c), i=1,2$. Complete the function below so `f1` and `f2` has the correct values as defined at the beginning. \\emph{Hint:} You can check the `angles` function below for a computation of lengths."
   ]
  },
  {
   "cell_type": "code",
   "execution_count": null,
   "metadata": {},
   "outputs": [],
   "source": [
    "def f_i(xc, yc, corners):\n",
    "    x1 = corners[0][0]\n",
    "    y1 = corners[0][1]\n",
    "    x2 = corners[1][0]\n",
    "    y2 = corners[1][1]\n",
    "    x3 = corners[2][0]\n",
    "    y3 = corners[2][1]\n",
    "    f1 = # FILL IN\n",
    "    f2 = # FILL IN\n",
    "    return np.array([[f1], [f2]])"
   ]
  },
  {
   "cell_type": "markdown",
   "metadata": {},
   "source": [
    "Now we need to calculate the derivatives of $f_1$ and $f_2$ w.r.t. $x_c$ and $y_c$. We will use the `sympy` module to do that. The code below is almost complete. You just need to assign `f1` and `f2` to the correct values that you have written above and then run `diff(function, var)` to compute the derivative of a `function` w.r.t. a `variable`. Compute the derivatives $\\frac{\\partial f_1}{\\partial x}, \\frac{\\partial f_1}{\\partial y}, \\frac{\\partial f_2}{\\partial x}, \\textrm{ and } \\frac{\\partial f_2}{\\partial y}$."
   ]
  },
  {
   "cell_type": "code",
   "execution_count": null,
   "metadata": {},
   "outputs": [],
   "source": [
    "x1, x2, x3, xc, y1, y2, y3, yc = symbols('x1 x2 x3 xc y1 y2 y3 yc')\n",
    "f1 = # FILL IN EXACTLY AS ABOVE\n",
    "f2 = # FILL IN EXACTLY AS ABOVE\n",
    "df1_dx = # FILL IN WITH A CALL TO DIFF \n",
    "df1_dy = # FILL IN WITH A CALL TO DIFF\n",
    "df2_dx = # FILL IN WITH A CALL TO DIFF\n",
    "df2_dy = # FILL IN WITH A CALL TO DIFF\n",
    "print(f'df1_dx = {df1_dx}')\n",
    "print(f'df1_dy = {df1_dy}')\n",
    "print(f'df2_dx = {df2_dx}')\n",
    "print(f'df2_dy = {df2_dy}')"
   ]
  },
  {
   "cell_type": "markdown",
   "metadata": {},
   "source": [
    "We need a function to compute the derivative of $f_i$ w.r.t. $x_c$ and $y_c$. Fill in the function below with the output of `sympy`."
   ]
  },
  {
   "cell_type": "code",
   "execution_count": null,
   "metadata": {},
   "outputs": [],
   "source": [
    "def jacobian(xc, yc, corners):\n",
    "    x1 = corners[0][0]\n",
    "    y1 = corners[0][1]\n",
    "    x2 = corners[1][0]\n",
    "    y2 = corners[1][1]\n",
    "    x3 = corners[2][0]\n",
    "    y3 = corners[2][1]\n",
    "    df1_dx = # FILL IN WITH THE OUTPUT FROM SYMPY\n",
    "    df1_dy = # FILL IN WITH THE OUTPUT FROM SYMPY\n",
    "    df2_dx = # FILL IN WITH THE OUTPUT FROM SYMPY\n",
    "    df2_dy = # FILL IN WITH THE OUTPUT FROM SYMPY\n",
    "    J = np.array([[df1_dx, df1_dy], [df2_dx, df2_dy]])\n",
    "    return J"
   ]
  },
  {
   "cell_type": "markdown",
   "metadata": {},
   "source": [
    "Later on, we will also learn how to compute the derivatives numerically. To compute the analytic derivative you can use symbolic math software such as the `sympy` module for Python. Now we define a function for a single iteration of the Newton-Raphson algorithm for convinience:"
   ]
  },
  {
   "cell_type": "code",
   "execution_count": null,
   "metadata": {},
   "outputs": [],
   "source": [
    "def iter_analytic(xc, yc, corners):\n",
    "    fi = f_i(xc, yc, corners)\n",
    "    J = jacobian(xc, yc, corners)\n",
    "    xs = np.linalg.solve(J, -fi) # We solve the system of equations for the step xs \n",
    "    return xc + xs[0][0], yc + xs[1][0]"
   ]
  },
  {
   "cell_type": "markdown",
   "metadata": {},
   "source": [
    "We can also measure the angles to better see the quality of the current solution."
   ]
  },
  {
   "cell_type": "code",
   "execution_count": null,
   "metadata": {},
   "outputs": [],
   "source": [
    "def angles(xc, yc, corners):\n",
    "    x1 = corners[0][0]\n",
    "    y1 = corners[0][1]\n",
    "    x2 = corners[1][0]\n",
    "    y2 = corners[1][1]\n",
    "    x3 = corners[2][0]\n",
    "    y3 = corners[2][1]\n",
    "    lc1_sqr = (yc-y1)**2 + (xc-x1)**2\n",
    "    lc3_sqr = (yc-y3)**2 + (xc-x3)**2\n",
    "    l13_sqr = (y1-y3)**2 + (x1-x3)**2\n",
    "    lc1lc3 = lc1_sqr**0.5 * lc3_sqr**0.5\n",
    "    costheta0 = (l13_sqr - lc1_sqr - lc3_sqr) / (-2.0*lc1lc3)\n",
    "\n",
    "    lc2_sqr = (yc-y2)**2 + (xc-x2)**2\n",
    "    l12_sqr = (y1-y2)**2 + (x1-x2)**2\n",
    "    lc1lc2 = lc1_sqr**0.5 * lc2_sqr**0.5\n",
    "    costheta1 = (l12_sqr - lc1_sqr - lc2_sqr) / (-2.0*lc1lc2)\n",
    "\n",
    "    return math.acos(costheta0), math.acos(costheta1)"
   ]
  },
  {
   "cell_type": "markdown",
   "metadata": {},
   "source": [
    "With the definitions above we are ready to solve the problem. Make sure the cell below runs without error. The solution should be found in around 5-6 iterations."
   ]
  },
  {
   "cell_type": "code",
   "execution_count": null,
   "metadata": {},
   "outputs": [],
   "source": [
    "x1 = 193.9572\n",
    "y1 = 380.0689\n",
    "x2 = 388.4872\n",
    "y2 = 380.0689\n",
    "x3 = 324.7872\n",
    "y3 = 257.0696\n",
    "corners = ((x1, y1), (x2, y2), (x3, y3))\n",
    "\n",
    "# We initialize the algorithm at the geometric mean of the corners\n",
    "xi = (x1+x2+x3)/3.0\n",
    "yi = (y1+y2+y3)/3.0\n",
    "\n",
    "fi = f_i(xi, yi, corners)\n",
    "print(f'Initial xc = {xi},yc = {yi}: f1 = {fi[0]}, f2 = {fi[1]}')\n",
    "theta = angles(xi, yi, corners)\n",
    "print(f'Angles (degrees) = |AOC| = {theta[0]*180.0/math.pi}, |AOB| = {theta[1]*180.0/math.pi}')\n",
    "\n",
    "param_tol = 1e-8\n",
    "max_iter = 1000\n",
    "for i in range(max_iter):\n",
    "    xn, yn = iter_analytic(xi, yi, corners)\n",
    "    dx = xn-xi\n",
    "    dy = yn-yi\n",
    "    xi, yi = xn, yn\n",
    "    print(f'Iter {i+1}: xi = {xi:.8f}, yi = {yi:.8f}, dx = {dx:.2g}, dy = {dy:.2g}')\n",
    "    if abs(dx) < param_tol and abs(dy) < param_tol:\n",
    "        break\n"
   ]
  },
  {
   "cell_type": "markdown",
   "metadata": {},
   "source": [
    "We can check the quality of the final solution."
   ]
  },
  {
   "cell_type": "code",
   "execution_count": null,
   "metadata": {},
   "outputs": [],
   "source": [
    "print('Final Solution: xc = {},yc = {}'.format(xi, yi))\n",
    "theta = angles(xi, yi, corners)\n",
    "print(f'Angles (degrees) = |AOC| = {theta[0]*180.0/math.pi}, |AOB| = {theta[1]*180.0/math.pi}')"
   ]
  }
 ],
 "metadata": {
  "kernelspec": {
   "display_name": "Python 3",
   "language": "python",
   "name": "python3"
  },
  "language_info": {
   "codemirror_mode": {
    "name": "ipython",
    "version": 3
   },
   "file_extension": ".py",
   "mimetype": "text/x-python",
   "name": "python",
   "nbconvert_exporter": "python",
   "pygments_lexer": "ipython3",
   "version": "3.6.4"
  }
 },
 "nbformat": 4,
 "nbformat_minor": 2
}
